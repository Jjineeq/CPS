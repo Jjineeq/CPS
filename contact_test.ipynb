{
 "cells": [
  {
   "cell_type": "code",
   "execution_count": 2,
   "metadata": {},
   "outputs": [],
   "source": [
    "from arena import *"
   ]
  },
  {
   "cell_type": "code",
   "execution_count": null,
   "metadata": {},
   "outputs": [],
   "source": [
    "from arena import *\n",
    "\n",
    "scene = Scene(host=\"arenaxr.org\", scene=\"example\")\n",
    "\n",
    "@scene.run_once\n",
    "def make_box():\n",
    "    scene.add_object(Box())\n",
    "\n",
    "scene.run_tasks()"
   ]
  }
 ],
 "metadata": {
  "kernelspec": {
   "display_name": "3_9",
   "language": "python",
   "name": "python3"
  },
  "language_info": {
   "codemirror_mode": {
    "name": "ipython",
    "version": 3
   },
   "file_extension": ".py",
   "mimetype": "text/x-python",
   "name": "python",
   "nbconvert_exporter": "python",
   "pygments_lexer": "ipython3",
   "version": "3.9.16"
  },
  "orig_nbformat": 4
 },
 "nbformat": 4,
 "nbformat_minor": 2
}
